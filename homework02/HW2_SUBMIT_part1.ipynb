{
 "cells": [
  {
   "cell_type": "markdown",
   "metadata": {},
   "source": [
    "# Homework 2, *part 1* (40 points)\n",
    "\n",
    "This warm-up problem set is provided to help you get used to PyTorch.\n",
    "\n",
    "Please, only fill parts marked with \"`Your code here`\"."
   ]
  },
  {
   "cell_type": "code",
   "execution_count": 312,
   "metadata": {},
   "outputs": [],
   "source": [
    "import numpy as np\n",
    "import math\n",
    "\n",
    "import matplotlib.pyplot as plt\n",
    "%matplotlib inline\n",
    "\n",
    "import torch\n",
    "assert torch.__version__ >= '1.0.0'"
   ]
  },
  {
   "cell_type": "markdown",
   "metadata": {},
   "source": [
    "To learn best practices $-$ for example,\n",
    "\n",
    "* how to choose between `.sqrt()` and `.sqrt_()`,\n",
    "* when to use `.view()` and how is it different from `.reshape()`,\n",
    "* which `dtype` to use,\n",
    "\n",
    "$-$ you are expected to google a lot, read tutorials on the Web and study documentation.\n",
    "\n",
    "Quick documentation on functions and modules is available with `?` and `help()`, like so:"
   ]
  },
  {
   "cell_type": "markdown",
   "metadata": {},
   "source": [
    "## Task 1 (3 points)\n",
    "\n",
    "Use tensors only: **no lists, loops, numpy arrays etc.**\n",
    "\n",
    "*Clarification update:*\n",
    "\n",
    "1. *you mustn't emulate PyTorch tensors with lists or tuples. Using a list for scaffolding utilities not provided by PyTorch core (e.g. to store model's layers or to group function arguments) is OK;*\n",
    "2. *no loops*;\n",
    "3. *you mustn't use numpy or other tensor libraries except PyTorch.*\n",
    "\n",
    "$\\rho(\\theta)$ is defined in polar coordinate system:\n",
    "\n",
    "$$\\rho(\\theta) = (1 + 0.9 \\cdot \\cos{8\\theta} ) \\cdot (1 + 0.1 \\cdot \\cos{24\\theta}) \\cdot (0.9 + 0.05 \\cdot \\cos {200\\theta}) \\cdot (1 + \\sin{\\theta})$$\n",
    "\n",
    "1. Create a regular grid of 1000 values of $\\theta$ between $-\\pi$ and $\\pi$.\n",
    "2. Compute $\\rho(\\theta)$ at these values.\n",
    "3. Convert it into Cartesian coordinates ([howto](http://www.mathsisfun.com/polar-cartesian-coordinates.html))."
   ]
  },
  {
   "cell_type": "code",
   "execution_count": 313,
   "metadata": {},
   "outputs": [],
   "source": [
    "# (1) Your code here\n",
    "theta = torch.arange(-math.pi, math.pi, 2*math.pi/1000) \n",
    "assert theta.shape == (1000,)\n",
    "\n",
    "# (2) Your code here\n",
    "multip1 = torch.add(torch.mul(torch.cos(torch.mul(theta,8)),  0.9),    1)\n",
    "multip2 = torch.add(torch.mul(torch.cos(torch.mul(theta,24)), 0.1),    1)\n",
    "multip3 = torch.add(torch.mul(torch.cos(torch.mul(theta,200)),0.05), 0.9)\n",
    "multip4 = torch.add(torch.sin(theta),                                  1)\n",
    "rho = torch.mul(torch.mul((torch.mul(multip3, multip4)), multip2), multip1)\n",
    "assert torch.is_same_size(rho, theta)\n",
    "\n",
    "# (3) Your code here\n",
    "x = torch.mul(rho, torch.cos(theta))\n",
    "y = torch.mul(rho, torch.sin(theta))"
   ]
  },
  {
   "cell_type": "code",
   "execution_count": 314,
   "metadata": {},
   "outputs": [
    {
     "data": {
      "image/png": "[encoded data removed]",
      "text/plain": [
       "<Figure size 432x432 with 1 Axes>"
      ]
     },
     "metadata": {
      "needs_background": "light"
     },
     "output_type": "display_data"
    }
   ],
   "source": [
    "# Run this cell and make sure the plot is correct\n",
    "plt.figure(figsize=[6,6])\n",
    "plt.fill(x.numpy(), y.numpy(), color='green')\n",
    "plt.grid()"
   ]
  },
  {
   "cell_type": "markdown",
   "metadata": {},
   "source": [
    "## Task 2 (7 points)\n",
    "\n",
    "Use tensors only: **no lists, loops, numpy arrays etc.**\n",
    "\n",
    "*Clarification update: see task 1.*\n",
    "\n",
    "We will implement [Conway's Game of Life](https://en.wikipedia.org/wiki/Conway's_Game_of_Life) in PyTorch.\n",
    "\n",
    "![img](https://cdn.tutsplus.com/gamedev/authors/legacy/Stephane%20Beniak/2012/09/11/Preview_Image.png)\n",
    "\n",
    "If you skipped the URL above, here are the rules:\n",
    "* You have a 2D grid of cells, where each cell is \"alive\"(1) or \"dead\"(0)\n",
    "* At one step in time, the generation update happens:\n",
    "  * Any living cell that has 2 or 3 neighbors survives, otherwise (0,1 or 4+ neighbors) it dies\n",
    "  * Any cell with exactly 3 neighbors becomes alive if it was dead\n",
    "\n",
    "You are given a reference numpy implementation of the update step. Your task is to convert it to PyTorch."
   ]
  },
  {
   "cell_type": "code",
   "execution_count": 315,
   "metadata": {},
   "outputs": [],
   "source": [
    "from scipy.signal import correlate2d as conv2d\n",
    "\n",
    "def numpy_update(alive_map):\n",
    "    # Count neighbours with convolution\n",
    "    conv_kernel = np.array([[1,1,1],\n",
    "                            [1,0,1],\n",
    "                            [1,1,1]])\n",
    "    \n",
    "    num_alive_neighbors = conv2d(alive_map, conv_kernel, mode='same')\n",
    "    \n",
    "    # Apply game rules\n",
    "    born = np.logical_and(num_alive_neighbors == 3, alive_map == 0)\n",
    "    survived = np.logical_and(np.isin(num_alive_neighbors, [2,3]), alive_map == 1)\n",
    "    \n",
    "    np.copyto(alive_map, np.logical_or(born, survived))"
   ]
  },
  {
   "cell_type": "code",
   "execution_count": 316,
   "metadata": {},
   "outputs": [],
   "source": [
    "def torch_update(alive_map):\n",
    "    \"\"\"\n",
    "    Game of Life update function that does to `alive_map` exactly the same as `numpy_update`.\n",
    "    \n",
    "    :param alive_map: `torch.tensor` of shape `(height, width)` and dtype `torch.float32`\n",
    "        containing 0s (dead) an 1s (alive)\n",
    "    \"\"\"\n",
    "    # Your code here\n",
    "    conv_kernel = torch.FloatTensor([[1,1,1],\n",
    "                                [1,0,1],\n",
    "                                [1,1,1]])\n",
    "    conv_kernel = conv_kernel[None, None]\n",
    "    alive_map = alive_map[None, None]\n",
    "    \n",
    "    num_alive_neighbors = torch.nn.functional.conv2d(alive_map, conv_kernel, padding=1)\n",
    " \n",
    "    born = (num_alive_neighbors==3) & (alive_map==0)\n",
    "    survived = ((num_alive_neighbors==2) | (num_alive_neighbors==3)) & (alive_map==1)\n",
    "    alive_map[:] = born | survived\n",
    "    \n",
    "    updated = (born | survived)\n",
    "    \n",
    "    return updated.data.type(torch.FloatTensor)\n",
    "\n",
    "    "
   ]
  },
  {
   "cell_type": "code",
   "execution_count": 317,
   "metadata": {
    "scrolled": true
   },
   "outputs": [
    {
     "name": "stdout",
     "output_type": "stream",
     "text": [
      "Well done!\n"
     ]
    }
   ],
   "source": [
    "# Generate a random initial map\n",
    "alive_map_numpy = np.random.choice([0, 1], p=(0.5, 0.5), size=(100, 100))\n",
    "alive_map_torch = torch.tensor(alive_map_numpy).float().clone()\n",
    "\n",
    "numpy_update(alive_map_numpy)\n",
    "torch_update(alive_map_torch)\n",
    "\n",
    "# results should be identical\n",
    "assert np.allclose(alive_map_torch.numpy(), alive_map_numpy), \\\n",
    "    \"Your PyTorch implementation doesn't match numpy_update.\"\n",
    "print(\"Well done!\")"
   ]
  },
  {
   "cell_type": "code",
   "execution_count": 318,
   "metadata": {},
   "outputs": [],
   "source": [
    "# %matplotlib notebook\n",
    "# plt.ion()\n",
    "\n",
    "# # initialize game field\n",
    "# alive_map = np.random.choice([0, 1], size=(100, 100))\n",
    "# alive_map = torch.tensor(alive_map).float()\n",
    "\n",
    "# fig = plt.figure()\n",
    "# ax = fig.add_subplot(111)\n",
    "# fig.show()\n",
    "\n",
    "# for _ in range(100):\n",
    "#     torch_update(alive_map)\n",
    "    \n",
    "#     # re-draw image\n",
    "#     ax.clear()\n",
    "#     ax.imshow(alive_map.numpy(), cmap='gray')\n",
    "#     fig.canvas.draw()"
   ]
  },
  {
   "cell_type": "markdown",
   "metadata": {},
   "source": [
    "More fun with Game of Life: [video](https://www.youtube.com/watch?v=C2vgICfQawE)"
   ]
  },
  {
   "cell_type": "markdown",
   "metadata": {},
   "source": [
    "## Task 3 (30 points)\n",
    "\n",
    "You have to solve yet another character recognition problem: 10 letters, ~14 000 train samples.\n",
    "\n",
    "For this, we ask you to build a multilayer perceptron (*i.e. a neural network of linear layers*) from scratch using **low-level** PyTorch interface.\n",
    "\n",
    "Requirements:\n",
    "1. at least 82% accuracy\n",
    "2. at least 2 linear layers\n",
    "3. use [softmax followed by categorical cross-entropy](https://gombru.github.io/2018/05/23/cross_entropy_loss/)\n",
    "\n",
    "**You are NOT allowed to use**\n",
    "* numpy arrays\n",
    "* `torch.nn`, `torch.optim`, `torch.utils.data.DataLoader`\n",
    "* convolutions\n",
    "\n",
    "##### Clarification update:\n",
    "\n",
    "1. *you mustn't emulate PyTorch tensors with lists or tuples. Using a list for scaffolding utilities not provided by PyTorch core (e.g. to store model's layers or to group function arguments) is OK;*\n",
    "2. *you mustn't use numpy or other tensor libraries except PyTorch;*\n",
    "3. *the purpose of part 1 is to make you google and read the documentation a LOT so that you learn which intrinsics PyTorch provides and what are their interfaces. This is why if there is some tensor functionality that is directly native to PyTorch, you mustn't emulate it with loops. Example:*\n",
    "\n",
    "```\n",
    "x = torch.rand(1_000_000)\n",
    "\n",
    "# Wrong: slow and unreadable\n",
    "for idx in range(x.numel()):\n",
    "    x[idx] = math.sqrt(x[idx])\n",
    "\n",
    "# Correct\n",
    "x.sqrt_()\n",
    "```\n",
    "\n",
    "4. *Loops are prohibited except for iterating over*\n",
    "\n",
    "  * *parameters (and their companion tensors used by optimizer, e.g. running averages),*\n",
    "  * *layers,*\n",
    "  * *epochs (or \"global\" gradient steps if you don't use epoch logic),*\n",
    "  * *batches in the dataset (using loops for collecting samples into a batch is not allowed).*\n",
    "\n",
    "Tips:\n",
    "\n",
    "* Pick random batches (either shuffle data before each epoch or sample each batch randomly).\n",
    "* Do not initialize weights with zeros ([learn why](https://stats.stackexchange.com/questions/27112/danger-of-setting-all-initial-weights-to-zero-in-backpropagation)). Gaussian noise with small variance will do.\n",
    "* 50 hidden neurons and a sigmoid nonlinearity will do for a start. Many ways to improve.\n",
    "* To improve accuracy, consider changing layers' sizes, nonlinearities, optimization methods, weights initialization.\n",
    "* Don't use GPU yet.\n",
    "\n",
    "**Reproducibility requirement**: you have to format your code cells so that `Cell -> Run All` on a fresh notebook **reliably** trains your model to the desired accuracy in a couple of minutes and reports the accuracy reached.\n",
    "\n",
    "Happy googling!"
   ]
  },
  {
   "cell_type": "code",
   "execution_count": 319,
   "metadata": {
    "scrolled": false
   },
   "outputs": [
    {
     "name": "stdout",
     "output_type": "stream",
     "text": [
      "Parsing...\n",
      "found broken img: ./notMNIST_small/A/RGVtb2NyYXRpY2FCb2xkT2xkc3R5bGUgQm9sZC50dGY=.png [it's ok if <10 images are broken]\n",
      "found broken img: ./notMNIST_small/F/Q3Jvc3NvdmVyIEJvbGRPYmxpcXVlLnR0Zg==.png [it's ok if <10 images are broken]\n"
     ]
    }
   ],
   "source": [
    "np.random.seed(666)\n",
    "torch.manual_seed(666)\n",
    "\n",
    "from notmnist import load_notmnist\n",
    "letters = 'ABCDEFGHIJ'\n",
    "X_train, y_train, X_test, y_test = map(torch.tensor, load_notmnist(letters=letters))\n",
    "X_train.squeeze_()\n",
    "X_test.squeeze_();"
   ]
  },
  {
   "cell_type": "code",
   "execution_count": 320,
   "metadata": {},
   "outputs": [
    {
     "data": {
      "image/png": "[encoded data removed]",
      "text/plain": [
       "<Figure size 1152x288 with 10 Axes>"
      ]
     },
     "metadata": {
      "needs_background": "light"
     },
     "output_type": "display_data"
    }
   ],
   "source": [
    "import matplotlib.pyplot as plt\n",
    "%matplotlib inline\n",
    "plt.figure(figsize=[16,4])\n",
    "\n",
    "for i in range(10):\n",
    "    plt.subplot(1, 10, i + 1)\n",
    "    plt.imshow(X_test[i].reshape([28, 28]))\n",
    "    plt.title(str(y_test[i]))"
   ]
  },
  {
   "cell_type": "code",
   "execution_count": 321,
   "metadata": {},
   "outputs": [
    {
     "data": {
      "text/plain": [
       "(torch.Size([14043, 28, 28]),\n",
       " torch.Size([14043]),\n",
       " torch.Size([4681, 28, 28]),\n",
       " torch.Size([4681]))"
      ]
     },
     "execution_count": 321,
     "metadata": {},
     "output_type": "execute_result"
    }
   ],
   "source": [
    "X_train.shape, y_train.shape, X_test.shape, y_test.shape"
   ]
  },
  {
   "cell_type": "code",
   "execution_count": 322,
   "metadata": {},
   "outputs": [],
   "source": [
    "X_train, X_test = X_train.reshape([-1, 784]), X_test.reshape([-1, 784])"
   ]
  },
  {
   "cell_type": "code",
   "execution_count": 323,
   "metadata": {},
   "outputs": [
    {
     "data": {
      "text/plain": [
       "(torch.Size([14043, 784]),\n",
       " torch.Size([14043]),\n",
       " torch.Size([4681, 784]),\n",
       " torch.Size([4681]))"
      ]
     },
     "execution_count": 323,
     "metadata": {},
     "output_type": "execute_result"
    }
   ],
   "source": [
    "X_train.shape, y_train.shape, X_test.shape, y_test.shape"
   ]
  },
  {
   "cell_type": "markdown",
   "metadata": {},
   "source": [
    "The cell below has an example layout for encapsulating your neural network. Feel free to modify the interface if you need to (add arguments, add return values, add methods etc.). For example, you may want to add a method `do_gradient_step()` that executes one optimization algorithm (SGD / Adadelta / Adam / ...) step."
   ]
  },
  {
   "cell_type": "code",
   "execution_count": 324,
   "metadata": {},
   "outputs": [],
   "source": [
    "def create_minibatches(X_train, y_train, batchsize):\n",
    "    ix = torch.LongTensor(batchsize).random_(0, len(X_train))\n",
    "    x_batch = torch.tensor(X_train[ix], dtype=torch.float32)\n",
    "    y_batch = torch.tensor(y_train[ix], dtype=torch.float32)\n",
    "    return x_batch, y_batch"
   ]
  },
  {
   "cell_type": "code",
   "execution_count": 325,
   "metadata": {},
   "outputs": [],
   "source": [
    "def loss_fn_final(y_predicted, y_batch):\n",
    "    y_batch = y_batch.long()\n",
    "    x = y_predicted - y_predicted.max(1)[0].view(y_predicted.shape[0],1)\n",
    "    out = torch.zeros_like(y_batch, dtype=torch.float)\n",
    "    out = torch.diag(x[:,y_batch])\n",
    "    loss = -out.sum()/len(out)\n",
    "    return loss"
   ]
  },
  {
   "cell_type": "code",
   "execution_count": 326,
   "metadata": {},
   "outputs": [],
   "source": [
    "class NeuralNet:\n",
    "    def __init__(self):\n",
    "        dtype = torch.float32\n",
    "        device = torch.device(\"cpu\")\n",
    "        self.w1 = torch.randn(784, 500, device=device, dtype=dtype, requires_grad=True)\n",
    "        self.w2 = torch.randn(500, 250, device=device, dtype=dtype, requires_grad=True)\n",
    "        self.w3 = torch.randn(250, 10, device=device, dtype=dtype, requires_grad=True)\n",
    "\n",
    "    def predict(self, images):\n",
    "        y_pred = images.mm(self.w1).clamp(min=0).mm(self.w2).clamp(min=0).mm(self.w3)\n",
    "        return y_pred\n",
    "        \n",
    "        \n",
    "    def train(self, X_train, y_train, batchsize, epoch_number, learning_rate):\n",
    "\n",
    "        for epoch in range(epoch_number):\n",
    "            for _ in range(50):\n",
    "                x_batch, y_batch = create_minibatches(X_train, y_train, batchsize)\n",
    "\n",
    "                y_predicted = self.predict(x_batch)\n",
    "\n",
    "                loss = loss_fn_final(y_predicted, y_batch)\n",
    "\n",
    "                loss.backward()\n",
    "\n",
    "                with torch.no_grad():\n",
    "                    self.w1 -= learning_rate * self.w1.grad\n",
    "                    self.w2 -= learning_rate * self.w2.grad\n",
    "                    self.w3 -= learning_rate * self.w3.grad\n",
    "                    self.w1.grad.zero_()\n",
    "                    self.w2.grad.zero_()\n",
    "                    self.w3.grad.zero_()\n",
    "\n",
    "            print('loss %f' % loss)"
   ]
  },
  {
   "cell_type": "code",
   "execution_count": 327,
   "metadata": {
    "scrolled": true
   },
   "outputs": [
    {
     "name": "stderr",
     "output_type": "stream",
     "text": [
      "/home/negvet/anaconda3/lib/python3.7/site-packages/ipykernel_launcher.py:3: UserWarning: To copy construct from a tensor, it is recommended to use sourceTensor.clone().detach() or sourceTensor.clone().detach().requires_grad_(True), rather than torch.tensor(sourceTensor).\n",
      "  This is separate from the ipykernel package so we can avoid doing imports until\n",
      "/home/negvet/anaconda3/lib/python3.7/site-packages/ipykernel_launcher.py:4: UserWarning: To copy construct from a tensor, it is recommended to use sourceTensor.clone().detach() or sourceTensor.clone().detach().requires_grad_(True), rather than torch.tensor(sourceTensor).\n",
      "  after removing the cwd from sys.path.\n"
     ]
    },
    {
     "name": "stdout",
     "output_type": "stream",
     "text": [
      "loss 464.992645\n",
      "loss 297.624420\n",
      "loss 329.708740\n",
      "loss 283.300629\n",
      "loss 333.590973\n",
      "loss 185.746689\n",
      "loss 188.029022\n",
      "loss 140.303177\n",
      "loss 245.718491\n",
      "loss 197.741638\n",
      "loss 79.712219\n",
      "loss 165.163437\n",
      "loss 130.156738\n",
      "loss 72.226212\n",
      "loss 108.454880\n",
      "loss 60.933285\n",
      "loss 116.362457\n",
      "loss 62.337833\n",
      "loss 122.734169\n",
      "loss 142.986938\n"
     ]
    }
   ],
   "source": [
    "net = NeuralNet()\n",
    "# opt = torch.optim.SGD([net.w1, net.w2, net.w3], lr = 0.01, momentum=0.9)\n",
    "# opt = torch.optim.Adam([net.w1, net.w2, net.w3], lr = 0.0005)\n",
    "batchsize = 256\n",
    "epoch_number = 20\n",
    "learning_rate = 0.001\n",
    "\n",
    "net.train(X_train, y_train, batchsize, epoch_number, learning_rate)"
   ]
  },
  {
   "cell_type": "code",
   "execution_count": 328,
   "metadata": {},
   "outputs": [],
   "source": [
    "def accuracy(X, y, net):\n",
    "    y_predicted = net.predict(X)\n",
    "    _, indices = torch.max(y_predicted,1)\n",
    "    accuracy = ((indices == y).double().mean())   \n",
    "    return accuracy"
   ]
  },
  {
   "cell_type": "code",
   "execution_count": 329,
   "metadata": {
    "scrolled": true
   },
   "outputs": [
    {
     "name": "stdout",
     "output_type": "stream",
     "text": [
      "Train accuracy: 91.21, test accuracy: 83.83\n"
     ]
    }
   ],
   "source": [
    "train_acc = accuracy(X_train, y_train, net) * 100\n",
    "test_acc = accuracy(X_test, y_test, net) * 100\n",
    "print(\"Train accuracy: %.2f, test accuracy: %.2f\" % (train_acc, test_acc))\n",
    "\n",
    "assert test_acc >= 82.0, \"You have to do better\""
   ]
  }
 ],
 "metadata": {
  "kernelspec": {
   "display_name": "Python 3",
   "language": "python",
   "name": "python3"
  },
  "language_info": {
   "codemirror_mode": {
    "name": "ipython",
    "version": 3
   },
   "file_extension": ".py",
   "mimetype": "text/x-python",
   "name": "python",
   "nbconvert_exporter": "python",
   "pygments_lexer": "ipython3",
   "version": "3.7.1"
  }
 },
 "nbformat": 4,
 "nbformat_minor": 2
}
